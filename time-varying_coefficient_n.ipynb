{
 "cells": [
  {
   "cell_type": "code",
   "execution_count": 3,
   "metadata": {},
   "outputs": [],
   "source": [
    "import platform\n",
    "import pandas as pd\n",
    "import numpy.random as rd\n",
    "import numpy as np\n",
    "import matplotlib\n",
    "import matplotlib.pyplot as plt\n",
    "import seaborn as sns\n",
    "import rpy2\n",
    "from rpy2.robjects.packages import importr\n",
    "import rpy2.robjects as robjects\n",
    "from rpy2.rinterface import R_VERSION_BUILD\n",
    "from rpy2.robjects import pandas2ri\n",
    "pandas2ri.activate()"
   ]
  },
  {
   "cell_type": "code",
   "execution_count": 4,
   "metadata": {},
   "outputs": [
    {
     "name": "stdout",
     "output_type": "stream",
     "text": [
      "0 0.5 10\n",
      "1 0.8 20\n",
      "2 1.2 15\n",
      "3 1.0 18\n"
     ]
    }
   ],
   "source": [
    "rd.seed(71)\n",
    "\n",
    "T = 500\n",
    "v_sd = 20 # 観測誤差の標準偏差\n",
    "i_sd = 10 # interceptの標準偏差\n",
    "e_sd = [0.5, 0.8, 1.2, 1.0] # 回帰係数の変動の標準偏差\n",
    "a0   = [10, 20, 15, 18]    # 回帰係数の初期値(ゲタ)\n",
    "\n",
    "assert len(e_sd)==len(a0)\n",
    "\n",
    "# 時変回帰係数２つ\n",
    "e = np.zeros((len(e_sd), T))\n",
    "a = np.zeros((len(a0), T))\n",
    "for i, (sd, a0_) in enumerate(zip(e_sd, a0)):\n",
    "    e[i] = np.random.normal(0, sd, size=T)\n",
    "    a[i] = e[i].cumsum() + a0_\n",
    "    print(i, sd, a0_)\n",
    "\n",
    "    \n",
    "# intercept\n",
    "intercept = np.cumsum(np.random.normal(0, i_sd, size=T))\n",
    "\n",
    "# 説明変数\n",
    "x = rd.normal(10, 10, size=(len(e_sd), T))\n",
    "\n",
    "# 被説明変数\n",
    "v = np.random.normal(0, v_sd, size=T) # 観測誤差\n",
    "y_noerror = intercept + np.diag(np.dot(a.T, x))  # 観測誤差がなかった時の　y\n",
    "y = y_noerror + v"
   ]
  },
  {
   "cell_type": "code",
   "execution_count": null,
   "metadata": {},
   "outputs": [],
   "source": []
  }
 ],
 "metadata": {
  "kernelspec": {
   "display_name": "Python 3",
   "language": "python",
   "name": "python3"
  },
  "language_info": {
   "codemirror_mode": {
    "name": "ipython",
    "version": 3
   },
   "file_extension": ".py",
   "mimetype": "text/x-python",
   "name": "python",
   "nbconvert_exporter": "python",
   "pygments_lexer": "ipython3",
   "version": "3.6.9"
  }
 },
 "nbformat": 4,
 "nbformat_minor": 4
}
