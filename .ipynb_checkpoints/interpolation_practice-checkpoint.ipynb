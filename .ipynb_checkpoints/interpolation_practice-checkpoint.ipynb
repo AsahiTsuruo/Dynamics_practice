{
 "cells": [
  {
   "cell_type": "code",
   "execution_count": 16,
   "metadata": {},
   "outputs": [],
   "source": [
    "import numpy as np\n",
    "from scipy import interpolate\n",
    "import matplotlib.pyplot as plt\n",
    "import pandas as pd"
   ]
  },
  {
   "cell_type": "code",
   "execution_count": 17,
   "metadata": {},
   "outputs": [],
   "source": [
    "def spline1(x,y,point):\n",
    "    f = interpolate.interp1d(x, y,kind=\"cubic\") \n",
    "    X = np.linspace(x[0],x[-1],num=point,endpoint=True)\n",
    "    Y = f(X)\n",
    "    return X,Y"
   ]
  },
  {
   "cell_type": "code",
   "execution_count": 18,
   "metadata": {},
   "outputs": [
    {
     "data": {
      "image/png": "[encoded data removed]",
      "text/plain": [
       "<Figure size 432x288 with 1 Axes>"
      ]
     },
     "metadata": {
      "needs_background": "light"
     },
     "output_type": "display_data"
    }
   ],
   "source": [
    "x = [-5, 0, 1,3,4,6]\n",
    "y = [-4, 2, -2,-4,0,4]\n",
    "data_type = \"Run\"\n",
    "param = pd.read_csv(\"/Users/asahi-ts/Desktop/trying2/\"+data_type+\"_opt_param.csv\", index_col=0)\n",
    "data_h = pd.read_csv(\"/Users/asahi-ts/Desktop/trying2/\"+data_type+\"_horse_3data.csv\", index_col=0)\n",
    "a1,b1 = spline1(list(data_h.loc[:,\"time\"]),list(data_h.loc[:,\"horse_z\"]),50)\n",
    "plt.plot(list(data_h.loc[:,\"time\"]), list(data_h.loc[:,\"horse_z\"]), 'ro',label=\"controlpoint\")\n",
    "plt.plot(a1,b1,label=\"interp1d\")\n",
    "plt.title(\"spline\")\n",
    "#plt.xlim([-10, 10])\n",
    "#plt.ylim([-10, 10])\n",
    "plt.legend(loc='lower right')\n",
    "plt.grid(which='major',color='black',linestyle='-')\n",
    "plt.grid(which='minor',color='black',linestyle='-')\n",
    "\n",
    "plt.show()"
   ]
  },
  {
   "cell_type": "code",
   "execution_count": null,
   "metadata": {},
   "outputs": [],
   "source": []
  }
 ],
 "metadata": {
  "kernelspec": {
   "display_name": "Python 3.6.9 64-bit ('EXP': conda)",
   "language": "python",
   "name": "python36964bitexpcondabfe6301f07c141d893f9a8cecb002cfa"
  },
  "language_info": {
   "codemirror_mode": {
    "name": "ipython",
    "version": 3
   },
   "file_extension": ".py",
   "mimetype": "text/x-python",
   "name": "python",
   "nbconvert_exporter": "python",
   "pygments_lexer": "ipython3",
   "version": "3.6.9"
  }
 },
 "nbformat": 4,
 "nbformat_minor": 4
}
