{
 "cells": [
  {
   "cell_type": "code",
   "execution_count": 3,
   "metadata": {},
   "outputs": [
    {
     "name": "stdout",
     "output_type": "stream",
     "text": [
      "Optimization terminated successfully.\n",
      "         Current function value: 0.000000\n",
      "         Iterations: 88\n",
      "         Function evaluations: 174\n",
      "[1. 1.]\n"
     ]
    }
   ],
   "source": [
    "import numpy as np\n",
    "from scipy.optimize import minimize\n",
    "def rosen(x):\n",
    "    \"\"\"The Rosenbrock function\"\"\"\n",
    "    return sum(100.0*(x[1:]-x[:-1]**2.0)**2.0 + (1-x[:-1])**2.0)\n",
    "\n",
    "x0 = np.array([10, 0.7])#初期値\n",
    "res = minimize(rosen, x0, method='nelder-mead',\n",
    "                options={'xtol': 1e-8, 'disp': True})\n",
    "\n",
    "print(res.x)"
   ]
  },
  {
   "cell_type": "code",
   "execution_count": 25,
   "metadata": {},
   "outputs": [],
   "source": [
    "def sigmoid(x):\n",
    "    return 1 / (1 + np.exp(-x))\n",
    "def objective(x):\n",
    "    return (x[0] - .1) ** 2 + (x[1] - .3) ** 2 + np.sin((x[0] + .5) * 2) * np.sin(x[1] * 3) + sigmoid(x[0] * 4)"
   ]
  },
  {
   "cell_type": "code",
   "execution_count": 26,
   "metadata": {},
   "outputs": [
    {
     "name": "stdout",
     "output_type": "stream",
     "text": [
      "Optimization terminated successfully.\n",
      "         Current function value: 0.200655\n",
      "         Iterations: 79\n",
      "         Function evaluations: 153\n",
      "[ 0.02825677 -0.34995729]\n"
     ]
    }
   ],
   "source": [
    "x0 = np.zeros(2)#初期値\n",
    "res = minimize(objective, x0, method='nelder-mead',options={'xtol': 1e-8, 'disp': True})\n",
    "\n",
    "print(res.x)"
   ]
  },
  {
   "cell_type": "code",
   "execution_count": 28,
   "metadata": {},
   "outputs": [],
   "source": [
    "def sigmoid(x):\n",
    "    return 1 / (1 + np.exp(-x))\n",
    "def objective(x,arg):\n",
    "    return (arg[0]*x[0] - .1) ** 2 + (x[1] - .3) ** 2 + arg[1]*np.sin((x[0] + .5) * 2) * np.sin(x[1] * 3) + sigmoid(x[0] * 4)"
   ]
  },
  {
   "cell_type": "code",
   "execution_count": null,
   "metadata": {},
   "outputs": [],
   "source": [
    "arg = np.array([3,3])\n",
    "res = minimize(objective, x0,arg, method='nelder-mead',options={'xtol': 1e-8, 'disp': True})\n",
    "\n",
    "print(res.x)"
   ]
  }
 ],
 "metadata": {
  "kernelspec": {
   "display_name": "Python 3",
   "language": "python",
   "name": "python3"
  },
  "language_info": {
   "codemirror_mode": {
    "name": "ipython",
    "version": 3
   },
   "file_extension": ".py",
   "mimetype": "text/x-python",
   "name": "python",
   "nbconvert_exporter": "python",
   "pygments_lexer": "ipython3",
   "version": "3.6.9"
  }
 },
 "nbformat": 4,
 "nbformat_minor": 4
}
